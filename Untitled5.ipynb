{
 "cells": [
  {
   "cell_type": "code",
   "execution_count": 1,
   "metadata": {
    "collapsed": false
   },
   "outputs": [
    {
     "data": {
      "text/html": [
       "<div>\n",
       "<table border=\"1\" class=\"dataframe\">\n",
       "  <thead>\n",
       "    <tr style=\"text-align: right;\">\n",
       "      <th></th>\n",
       "      <th>SL.NO.</th>\n",
       "      <th>HEIGHT(INCHES)</th>\n",
       "      <th>WEIGHT</th>\n",
       "      <th>SHOE SIZE</th>\n",
       "      <th>SEX</th>\n",
       "    </tr>\n",
       "  </thead>\n",
       "  <tbody>\n",
       "    <tr>\n",
       "      <th>0</th>\n",
       "      <td>1</td>\n",
       "      <td>4.5</td>\n",
       "      <td>32</td>\n",
       "      <td>6</td>\n",
       "      <td>Female</td>\n",
       "    </tr>\n",
       "    <tr>\n",
       "      <th>1</th>\n",
       "      <td>2</td>\n",
       "      <td>5.0</td>\n",
       "      <td>35</td>\n",
       "      <td>5</td>\n",
       "      <td>Female</td>\n",
       "    </tr>\n",
       "    <tr>\n",
       "      <th>2</th>\n",
       "      <td>3</td>\n",
       "      <td>5.5</td>\n",
       "      <td>46</td>\n",
       "      <td>7</td>\n",
       "      <td>Male</td>\n",
       "    </tr>\n",
       "    <tr>\n",
       "      <th>3</th>\n",
       "      <td>4</td>\n",
       "      <td>4.4</td>\n",
       "      <td>30</td>\n",
       "      <td>6</td>\n",
       "      <td>Female</td>\n",
       "    </tr>\n",
       "    <tr>\n",
       "      <th>4</th>\n",
       "      <td>5</td>\n",
       "      <td>4.3</td>\n",
       "      <td>32</td>\n",
       "      <td>5</td>\n",
       "      <td>Female</td>\n",
       "    </tr>\n",
       "  </tbody>\n",
       "</table>\n",
       "</div>"
      ],
      "text/plain": [
       "   SL.NO.  HEIGHT(INCHES)  WEIGHT  SHOE SIZE     SEX\n",
       "0       1             4.5      32          6  Female\n",
       "1       2             5.0      35          5  Female\n",
       "2       3             5.5      46          7    Male\n",
       "3       4             4.4      30          6  Female\n",
       "4       5             4.3      32          5  Female"
      ]
     },
     "execution_count": 1,
     "metadata": {},
     "output_type": "execute_result"
    }
   ],
   "source": [
    "import numpy as np\n",
    "import pandas as pd\n",
    "Height=pd.read_csv('Height.csv')\n",
    "Height.head()"
   ]
  },
  {
   "cell_type": "code",
   "execution_count": 2,
   "metadata": {
    "collapsed": false
   },
   "outputs": [
    {
     "name": "stdout",
     "output_type": "stream",
     "text": [
      "[[4.5 32]\n",
      " [5.0 35]\n",
      " [5.5 46]\n",
      " [4.4 30]\n",
      " [4.3 32]\n",
      " [4.5 32]\n",
      " [6.0 45]\n",
      " [6.1 48]\n",
      " [4.4 32]\n",
      " [4.5 35]\n",
      " [5.0 40]\n",
      " [6.0 55]\n",
      " [5.5 55]\n",
      " [4.5 50]\n",
      " [5.0 45]\n",
      " [6.0 55]\n",
      " [4.3 32]\n",
      " [4.2 35]\n",
      " [5.2 38]\n",
      " [5.6 40]\n",
      " [5.8 45]\n",
      " [5.9 48]\n",
      " [5.4 55]\n",
      " [5.1 38]\n",
      " [4.8 46]\n",
      " [4.6 47]\n",
      " [4.9 55]\n",
      " [4.8 58]\n",
      " [4.7 38]\n",
      " [4.5 39]\n",
      " [4.8 40]\n",
      " [4.9 52]\n",
      " [5.8 53]\n",
      " [5.9 48]\n",
      " [5.6 46]\n",
      " [5.7 52]\n",
      " [4.8 55]\n",
      " [5.2 38]\n",
      " [4.6 46]\n",
      " [6.1 49]\n",
      " [4.11 32]\n",
      " [5.11 35]\n",
      " [6.11 36]\n",
      " [5.6 45]\n",
      " [4.9 46]\n",
      " [4.7 48]\n",
      " [5.4 55]\n",
      " [5.5 49]\n",
      " [6.0 39]\n",
      " [5.0 52]]\n",
      "[6 5 7 6 5 6 8 8 6 6 5 7 8 6 7 7 6 5 6 7 8 8 7 7 6 6 5 5 6 7 7 6 8 7 7 6 6\n",
      " 5 5 6 6 7 8 5 5 6 7 8 8 7]\n"
     ]
    }
   ],
   "source": [
    "array=Height.values\n",
    "X= array[:,1:3]\n",
    "print(X)\n",
    "array=Height.values\n",
    "y=array[:,3]\n",
    "print(y)"
   ]
  },
  {
   "cell_type": "code",
   "execution_count": 3,
   "metadata": {
    "collapsed": false
   },
   "outputs": [],
   "source": [
    "from sklearn.model_selection import train_test_split\n",
    "X_train, X_test, y_train, y_test = train_test_split(X, y.astype('int'), test_size=0.2, random_state=7)"
   ]
  },
  {
   "cell_type": "code",
   "execution_count": 4,
   "metadata": {
    "collapsed": false
   },
   "outputs": [
    {
     "data": {
      "text/plain": [
       "KNeighborsClassifier(algorithm='auto', leaf_size=30, metric='minkowski',\n",
       "                     metric_params=None, n_jobs=None, n_neighbors=3, p=2,\n",
       "                     weights='uniform')"
      ]
     },
     "execution_count": 4,
     "metadata": {},
     "output_type": "execute_result"
    }
   ],
   "source": [
    "from sklearn.neighbors import KNeighborsClassifier\n",
    "# Create KNN classifier\n",
    "knn = KNeighborsClassifier(n_neighbors = 3)\n",
    "# Fit the classifier to the data\n",
    "knn.fit(X_train,y_train)\n",
    "#y=y.astype('int')"
   ]
  },
  {
   "cell_type": "code",
   "execution_count": 5,
   "metadata": {
    "collapsed": false
   },
   "outputs": [
    {
     "name": "stdout",
     "output_type": "stream",
     "text": [
      "[6 7 5 5 7 5 5 5 7 5]\n"
     ]
    }
   ],
   "source": [
    "predict=knn.predict(X_test)\n",
    "print(predict)"
   ]
  },
  {
   "cell_type": "code",
   "execution_count": 6,
   "metadata": {
    "collapsed": false
   },
   "outputs": [
    {
     "data": {
      "text/plain": [
       "0.5"
      ]
     },
     "execution_count": 6,
     "metadata": {},
     "output_type": "execute_result"
    }
   ],
   "source": [
    "knn.score(X_test, y_test)"
   ]
  },
  {
   "cell_type": "code",
   "execution_count": 7,
   "metadata": {
    "collapsed": false
   },
   "outputs": [
    {
     "name": "stdout",
     "output_type": "stream",
     "text": [
      "Enter Your Height:-5.2\n",
      "Enter Your Weight:-36\n",
      "[5]\n"
     ]
    }
   ],
   "source": [
    "height=float(input(\"Enter Your Height:-\"))\n",
    "weight=int(input(\"Enter Your Weight:-\"))\n",
    "#ssize=float(input(\"Enter Your Shoe Size:-\"))\n",
    "#print([height,weight,ssize])\n",
    "predict=knn.predict([[height,weight]])\n",
    "print(predict)\n",
    "#print(weight,predict)\n",
    "#print(ssize,predict)"
   ]
  },
  {
   "cell_type": "code",
   "execution_count": 66,
   "metadata": {
    "collapsed": false
   },
   "outputs": [],
   "source": [
    "neighbors = np.arange(1,9)\n",
    "train_accuracy =np.empty(len(neighbors))\n",
    "test_accuracy = np.empty(len(neighbors))\n",
    "\n",
    "for i,k in enumerate(neighbors):\n",
    "    #Setup a knn classifier with k neighbors\n",
    "    knn = KNeighborsClassifier(n_neighbors=k)\n",
    "    \n",
    "    #Fit the model\n",
    "    knn.fit(X_train, y_train)\n",
    "    \n",
    "    #Compute accuracy on the training set\n",
    "    train_accuracy[i] = knn.score(X_train, y_train)\n",
    "    \n",
    "    #Compute accuracy on the test set\n",
    "    test_accuracy[i] = knn.score(X_test, y_test)"
   ]
  },
  {
   "cell_type": "code",
   "execution_count": 67,
   "metadata": {
    "collapsed": false
   },
   "outputs": [
    {
     "data": {
      "image/png": "[encoded data removed]",
      "text/plain": [
       "<matplotlib.figure.Figure at 0x24677e23438>"
      ]
     },
     "metadata": {},
     "output_type": "display_data"
    }
   ],
   "source": [
    "import matplotlib.pyplot as plt\n",
    "plt.title('k-NN Varying number of neighbors')\n",
    "plt.plot(neighbors, test_accuracy, label='Testing Accuracy')\n",
    "plt.plot(neighbors, train_accuracy, label='Training accuracy')\n",
    "plt.legend()\n",
    "plt.xlabel('Number of neighbors')\n",
    "plt.ylabel('Accuracy')\n",
    "plt.show()"
   ]
  },
  {
   "cell_type": "code",
   "execution_count": 84,
   "metadata": {
    "collapsed": false
   },
   "outputs": [
    {
     "data": {
      "text/html": [
       "<div>\n",
       "<table border=\"1\" class=\"dataframe\">\n",
       "  <thead>\n",
       "    <tr style=\"text-align: right;\">\n",
       "      <th></th>\n",
       "      <th>YEAR</th>\n",
       "      <th>JAN</th>\n",
       "      <th>FEB</th>\n",
       "      <th>MAR</th>\n",
       "      <th>APR</th>\n",
       "      <th>MAY</th>\n",
       "      <th>JUN</th>\n",
       "      <th>JUL</th>\n",
       "      <th>AUG</th>\n",
       "      <th>SEP</th>\n",
       "      <th>OCT</th>\n",
       "      <th>NOV</th>\n",
       "      <th>DEC</th>\n",
       "      <th>DATE</th>\n",
       "    </tr>\n",
       "  </thead>\n",
       "  <tbody>\n",
       "    <tr>\n",
       "      <th>0</th>\n",
       "      <td>1901</td>\n",
       "      <td>17.99</td>\n",
       "      <td>19.43</td>\n",
       "      <td>23.49</td>\n",
       "      <td>26.41</td>\n",
       "      <td>28.28</td>\n",
       "      <td>28.60</td>\n",
       "      <td>27.49</td>\n",
       "      <td>26.98</td>\n",
       "      <td>26.26</td>\n",
       "      <td>25.08</td>\n",
       "      <td>21.73</td>\n",
       "      <td>18.95</td>\n",
       "      <td>1</td>\n",
       "    </tr>\n",
       "    <tr>\n",
       "      <th>1</th>\n",
       "      <td>1902</td>\n",
       "      <td>19.00</td>\n",
       "      <td>20.39</td>\n",
       "      <td>24.10</td>\n",
       "      <td>26.54</td>\n",
       "      <td>28.68</td>\n",
       "      <td>28.44</td>\n",
       "      <td>27.29</td>\n",
       "      <td>27.05</td>\n",
       "      <td>25.95</td>\n",
       "      <td>24.37</td>\n",
       "      <td>21.33</td>\n",
       "      <td>18.78</td>\n",
       "      <td>2</td>\n",
       "    </tr>\n",
       "    <tr>\n",
       "      <th>2</th>\n",
       "      <td>1903</td>\n",
       "      <td>18.32</td>\n",
       "      <td>19.79</td>\n",
       "      <td>22.46</td>\n",
       "      <td>26.03</td>\n",
       "      <td>27.93</td>\n",
       "      <td>28.41</td>\n",
       "      <td>28.04</td>\n",
       "      <td>26.63</td>\n",
       "      <td>26.34</td>\n",
       "      <td>24.57</td>\n",
       "      <td>20.96</td>\n",
       "      <td>18.29</td>\n",
       "      <td>3</td>\n",
       "    </tr>\n",
       "    <tr>\n",
       "      <th>3</th>\n",
       "      <td>1904</td>\n",
       "      <td>17.77</td>\n",
       "      <td>19.39</td>\n",
       "      <td>22.95</td>\n",
       "      <td>26.73</td>\n",
       "      <td>27.83</td>\n",
       "      <td>27.85</td>\n",
       "      <td>26.84</td>\n",
       "      <td>26.73</td>\n",
       "      <td>25.84</td>\n",
       "      <td>24.36</td>\n",
       "      <td>21.07</td>\n",
       "      <td>18.84</td>\n",
       "      <td>4</td>\n",
       "    </tr>\n",
       "    <tr>\n",
       "      <th>4</th>\n",
       "      <td>1905</td>\n",
       "      <td>17.40</td>\n",
       "      <td>17.79</td>\n",
       "      <td>21.78</td>\n",
       "      <td>24.84</td>\n",
       "      <td>28.32</td>\n",
       "      <td>28.69</td>\n",
       "      <td>27.67</td>\n",
       "      <td>27.47</td>\n",
       "      <td>26.29</td>\n",
       "      <td>26.16</td>\n",
       "      <td>22.07</td>\n",
       "      <td>18.71</td>\n",
       "      <td>5</td>\n",
       "    </tr>\n",
       "  </tbody>\n",
       "</table>\n",
       "</div>"
      ],
      "text/plain": [
       "   YEAR    JAN    FEB    MAR    APR    MAY    JUN    JUL    AUG    SEP    OCT  \\\n",
       "0  1901  17.99  19.43  23.49  26.41  28.28  28.60  27.49  26.98  26.26  25.08   \n",
       "1  1902  19.00  20.39  24.10  26.54  28.68  28.44  27.29  27.05  25.95  24.37   \n",
       "2  1903  18.32  19.79  22.46  26.03  27.93  28.41  28.04  26.63  26.34  24.57   \n",
       "3  1904  17.77  19.39  22.95  26.73  27.83  27.85  26.84  26.73  25.84  24.36   \n",
       "4  1905  17.40  17.79  21.78  24.84  28.32  28.69  27.67  27.47  26.29  26.16   \n",
       "\n",
       "     NOV    DEC  DATE  \n",
       "0  21.73  18.95     1  \n",
       "1  21.33  18.78     2  \n",
       "2  20.96  18.29     3  \n",
       "3  21.07  18.84     4  \n",
       "4  22.07  18.71     5  "
      ]
     },
     "execution_count": 84,
     "metadata": {},
     "output_type": "execute_result"
    }
   ],
   "source": [
    "import pandas as pd\n",
    "temp=pd.read_csv('Temp.csv')\n",
    "temp.head()"
   ]
  },
  {
   "cell_type": "code",
   "execution_count": 104,
   "metadata": {
    "collapsed": false
   },
   "outputs": [
    {
     "name": "stdout",
     "output_type": "stream",
     "text": [
      "[[17.99 19.43]\n",
      " [19.   20.39]\n",
      " [18.32 19.79]\n",
      " [17.77 19.39]\n",
      " [17.4  17.79]\n",
      " [17.5  19.14]\n",
      " [19.27 19.42]\n",
      " [18.35 19.73]\n",
      " [17.79 19.05]\n",
      " [18.14 19.72]\n",
      " [18.52 19.18]\n",
      " [18.6  20.84]\n",
      " [18.2  19.98]\n",
      " [18.96 19.66]\n",
      " [17.93 19.  ]\n",
      " [18.52 19.68]\n",
      " [18.16 19.94]\n",
      " [17.25 19.58]\n",
      " [18.78 19.15]\n",
      " [18.27 19.16]\n",
      " [18.61 22.12]\n",
      " [18.3  20.5 ]\n",
      " [18.23 19.35]\n",
      " [18.06 19.97]\n",
      " [17.53 19.08]\n",
      " [18.65 20.7 ]\n",
      " [18.15 19.4 ]\n",
      " [18.66 20.13]\n",
      " [18.25 19.  ]\n",
      " [17.75 18.72]\n",
      " [19.34 19.73]\n",
      " [18.72 19.51]\n",
      " [17.84 20.33]\n",
      " [17.8  20.51]\n",
      " [17.54 21.  ]\n",
      " [18.06 20.  ]\n",
      " [18.02 20.21]\n",
      " [18.15 18.77]\n",
      " [18.4  19.79]\n",
      " [18.1  19.88]\n",
      " [18.33 20.28]\n",
      " [18.07 20.06]\n",
      " [18.32 19.47]\n",
      " [18.   19.07]\n",
      " [17.33 19.37]\n",
      " [18.31 20.73]\n",
      " [17.72 19.84]\n",
      " [18.25 19.36]\n",
      " [19.01 19.36]\n",
      " [18.36 19.05]\n",
      " [19.09 19.36]\n",
      " [18.67 21.05]\n",
      " [18.11 20.86]\n",
      " [17.77 20.45]\n",
      " [18.42 20.5 ]\n",
      " [18.01 19.66]\n",
      " [18.2  19.27]\n",
      " [19.5  20.51]\n",
      " [18.39 19.47]\n",
      " [18.31 21.13]\n",
      " [18.89 19.08]\n",
      " [17.54 20.28]\n",
      " [17.59 20.55]\n",
      " [17.71 19.95]\n",
      " [18.47 19.96]\n",
      " [18.69 21.17]\n",
      " [18.15 20.73]\n",
      " [17.52 18.98]\n",
      " [18.07 20.3 ]\n",
      " [18.72 20.39]\n",
      " [18.12 19.99]\n",
      " [18.4  18.73]\n",
      " [18.51 20.98]\n",
      " [17.79 19.28]\n",
      " [17.71 19.67]\n",
      " [18.2  19.54]\n",
      " [18.35 20.34]\n",
      " [18.14 19.76]\n",
      " [18.97 19.97]\n",
      " [18.81 20.47]\n",
      " [18.4  20.44]\n",
      " [18.76 19.52]\n",
      " [18.38 19.81]\n",
      " [18.28 19.42]\n",
      " [18.67 20.54]\n",
      " [18.24 20.  ]\n",
      " [18.44 20.41]\n",
      " [18.58 20.83]\n",
      " [17.68 19.85]\n",
      " [18.56 20.33]\n",
      " [17.99 20.43]\n",
      " [18.36 19.77]\n",
      " [18.37 20.84]\n",
      " [19.33 20.2 ]\n",
      " [19.18 21.48]\n",
      " [19.81 21.73]\n",
      " [17.86 19.88]\n",
      " [18.84 20.6 ]\n",
      " [18.32 21.26]\n",
      " [18.87 19.78]\n",
      " [18.5  21.  ]\n",
      " [18.78 20.52]\n",
      " [18.6  21.03]\n",
      " [18.83 21.03]\n",
      " [19.07 20.51]\n",
      " [19.96 23.02]\n",
      " [19.24 20.97]\n",
      " [18.49 19.83]\n",
      " [19.79 21.66]\n",
      " [19.15 21.23]\n",
      " [18.32 20.79]\n",
      " [18.25 20.43]\n",
      " [18.88 21.07]\n",
      " [18.81 20.35]\n",
      " [19.02 21.23]\n",
      " [20.92 23.58]\n",
      " [20.59 23.08]]\n",
      "[1901. 1902. 1903. 1904. 1905. 1906. 1907. 1908. 1909. 1910. 1911. 1912.\n",
      " 1913. 1914. 1915. 1916. 1917. 1918. 1919. 1920. 1921. 1922. 1923. 1924.\n",
      " 1925. 1926. 1927. 1928. 1929. 1930. 1931. 1932. 1933. 1934. 1935. 1936.\n",
      " 1937. 1938. 1939. 1940. 1941. 1942. 1943. 1944. 1945. 1946. 1947. 1948.\n",
      " 1949. 1950. 1951. 1952. 1953. 1954. 1955. 1956. 1957. 1958. 1959. 1960.\n",
      " 1961. 1962. 1963. 1964. 1965. 1966. 1967. 1968. 1969. 1970. 1971. 1972.\n",
      " 1973. 1974. 1975. 1976. 1977. 1978. 1979. 1980. 1981. 1982. 1983. 1984.\n",
      " 1985. 1986. 1987. 1988. 1989. 1990. 1991. 1992. 1993. 1994. 1995. 1996.\n",
      " 1997. 1998. 1999. 2000. 2001. 2002. 2003. 2004. 2005. 2006. 2007. 2008.\n",
      " 2009. 2010. 2011. 2012. 2013. 2014. 2015. 2016. 2017.]\n"
     ]
    }
   ],
   "source": [
    "array=temp.values\n",
    "x= array[:,1:3]\n",
    "print(x)\n",
    "array=temp.values\n",
    "y=array[:,0]\n",
    "print(y)"
   ]
  },
  {
   "cell_type": "code",
   "execution_count": 105,
   "metadata": {
    "collapsed": false
   },
   "outputs": [],
   "source": [
    "from sklearn.model_selection import train_test_split\n",
    "x_train, x_test, y_train, y_test = train_test_split(x, y, test_size=0.2, random_state=7)"
   ]
  },
  {
   "cell_type": "code",
   "execution_count": 106,
   "metadata": {
    "collapsed": false
   },
   "outputs": [
    {
     "data": {
      "text/plain": [
       "KNeighborsClassifier(algorithm='auto', leaf_size=30, metric='minkowski',\n",
       "                     metric_params=None, n_jobs=None, n_neighbors=3, p=2,\n",
       "                     weights='uniform')"
      ]
     },
     "execution_count": 106,
     "metadata": {},
     "output_type": "execute_result"
    }
   ],
   "source": [
    "from sklearn.neighbors import KNeighborsClassifier\n",
    "# Create KNN classifier\n",
    "knn = KNeighborsClassifier(n_neighbors = 3)\n",
    "# Fit the classifier to the data\n",
    "knn.fit(x_train,y_train)"
   ]
  },
  {
   "cell_type": "code",
   "execution_count": 107,
   "metadata": {
    "collapsed": false
   },
   "outputs": [
    {
     "name": "stdout",
     "output_type": "stream",
     "text": [
      "[1928. 1947. 1929. 1948. 1948. 1977. 1925. 1909. 1932. 1910. 1934. 1943.\n",
      " 1995. 1952. 1952. 1980. 1947. 1996. 1995. 1995. 1908. 1922. 1960. 1913.]\n"
     ]
    }
   ],
   "source": [
    "predict=knn.predict(x_test)\n",
    "print(predict)"
   ]
  },
  {
   "cell_type": "code",
   "execution_count": 108,
   "metadata": {
    "collapsed": false
   },
   "outputs": [
    {
     "data": {
      "text/plain": [
       "0.0"
      ]
     },
     "execution_count": 108,
     "metadata": {},
     "output_type": "execute_result"
    }
   ],
   "source": [
    "knn.score(x_test, y_test)"
   ]
  },
  {
   "cell_type": "code",
   "execution_count": 111,
   "metadata": {
    "collapsed": false
   },
   "outputs": [
    {
     "name": "stdout",
     "output_type": "stream",
     "text": [
      "Enter Your temp:-20.59\n",
      "Enter Your temp:-23.2\n",
      "[1996.]\n"
     ]
    }
   ],
   "source": [
    "jan=float(input(\"Enter Your temp:-\"))\n",
    "feb=float(input(\"Enter Your temp:-\"))\n",
    "#march=float(input(\"Enter Your temp:-\"))\n",
    "#print([height,weight,ssize])\n",
    "predict=knn.predict([[jan,feb]])\n",
    "print(predict)"
   ]
  },
  {
   "cell_type": "code",
   "execution_count": 1,
   "metadata": {
    "collapsed": true
   },
   "outputs": [],
   "source": [
    "import pandas as pd\n",
    "import numpy as np\n",
    "from sklearn.tree import DecisionTreeClassifier\n",
    "from sklearn.model_selection import train_test_split"
   ]
  },
  {
   "cell_type": "code",
   "execution_count": 2,
   "metadata": {
    "collapsed": false
   },
   "outputs": [
    {
     "name": "stdout",
     "output_type": "stream",
     "text": [
      "Classes to predict:      SL.NO.  HEIGHT(INCHES)  WEIGHT  SHOE SIZE     SEX\n",
      "0        1            4.50      32          6  Female\n",
      "1        2            5.00      35          5  Female\n",
      "2        3            5.50      46          7    Male\n",
      "3        4            4.40      30          6  Female\n",
      "4        5            4.30      32          5  Female\n",
      "5        6            4.50      32          6  Female\n",
      "6        7            6.00      45          8    Male\n",
      "7        8            6.10      48          8    Male\n",
      "8        9            4.40      32          6  Female\n",
      "9       10            4.50      35          6  Female\n",
      "10      11            5.00      40          5    Male\n",
      "11      12            6.00      55          7    Male\n",
      "12      13            5.50      55          8    Male\n",
      "13      14            4.50      50          6  Female\n",
      "14      15            5.00      45          7    Male\n",
      "15      16            6.00      55          7    Male\n",
      "16      17            4.30      32          6  Female\n",
      "17      18            4.20      35          5    Male\n",
      "18      19            5.20      38          6  Female\n",
      "19      20            5.60      40          7    Male\n",
      "20      21            5.80      45          8  Female\n",
      "21      22            5.90      48          8    Male\n",
      "22      23            5.40      55          7    Male\n",
      "23      24            5.10      38          7  Female\n",
      "24      25            4.80      46          6  Female\n",
      "25      26            4.60      47          6    Male\n",
      "26      27            4.90      55          5  Female\n",
      "27      28            4.80      58          5  Female\n",
      "28      29            4.70      38          6    Male\n",
      "29      30            4.50      39          7  Female\n",
      "30      31            4.80      40          7  Female\n",
      "31      32            4.90      52          6  Female\n",
      "32      33            5.80      53          8    Male\n",
      "33      34            5.90      48          7    Male\n",
      "34      35            5.60      46          7    Male\n",
      "35      36            5.70      52          6  Female\n",
      "36      37            4.80      55          6  Female\n",
      "37      38            5.20      38          5    Male\n",
      "38      39            4.60      46          5  Female\n",
      "39      40            6.10      49          6    Male\n",
      "40      41            4.11      32          6  Female\n",
      "41      42            5.11      35          7    Male\n",
      "42      43            6.11      36          8    Male\n",
      "43      44            5.60      45          5    Male\n",
      "44      45            4.90      46          5  Female\n",
      "45      46            4.70      48          6  Female\n",
      "46      47            5.40      55          7    Male\n",
      "47      48            5.50      49          8  Female\n",
      "48      49            6.00      39          8    Male\n",
      "49      50            5.00      52          7  Female\n"
     ]
    }
   ],
   "source": [
    "data = pd.read_csv('Height.csv')\n",
    "print('Classes to predict: ', data)"
   ]
  },
  {
   "cell_type": "code",
   "execution_count": 3,
   "metadata": {
    "collapsed": false
   },
   "outputs": [
    {
     "name": "stdout",
     "output_type": "stream",
     "text": [
      "[[32 6]\n",
      " [35 5]\n",
      " [46 7]\n",
      " [30 6]\n",
      " [32 5]\n",
      " [32 6]\n",
      " [45 8]\n",
      " [48 8]\n",
      " [32 6]\n",
      " [35 6]\n",
      " [40 5]\n",
      " [55 7]\n",
      " [55 8]\n",
      " [50 6]\n",
      " [45 7]\n",
      " [55 7]\n",
      " [32 6]\n",
      " [35 5]\n",
      " [38 6]\n",
      " [40 7]\n",
      " [45 8]\n",
      " [48 8]\n",
      " [55 7]\n",
      " [38 7]\n",
      " [46 6]\n",
      " [47 6]\n",
      " [55 5]\n",
      " [58 5]\n",
      " [38 6]\n",
      " [39 7]\n",
      " [40 7]\n",
      " [52 6]\n",
      " [53 8]\n",
      " [48 7]\n",
      " [46 7]\n",
      " [52 6]\n",
      " [55 6]\n",
      " [38 5]\n",
      " [46 5]\n",
      " [49 6]\n",
      " [32 6]\n",
      " [35 7]\n",
      " [36 8]\n",
      " [45 5]\n",
      " [46 5]\n",
      " [48 6]\n",
      " [55 7]\n",
      " [49 8]\n",
      " [39 8]\n",
      " [52 7]]\n",
      "[4.5 5.0 5.5 4.4 4.3 4.5 6.0 6.1 4.4 4.5 5.0 6.0 5.5 4.5 5.0 6.0 4.3 4.2\n",
      " 5.2 5.6 5.8 5.9 5.4 5.1 4.8 4.6 4.9 4.8 4.7 4.5 4.8 4.9 5.8 5.9 5.6 5.7\n",
      " 4.8 5.2 4.6 6.1 4.11 5.11 6.11 5.6 4.9 4.7 5.4 5.5 6.0 5.0]\n"
     ]
    }
   ],
   "source": [
    "#Extracting data attributes\n",
    "array=data.values\n",
    "x= array[:,2:4]\n",
    "print(x)\n",
    "array=data.values\n",
    "y=array[:,1]\n",
    "print(y)"
   ]
  },
  {
   "cell_type": "code",
   "execution_count": 34,
   "metadata": {
    "collapsed": true
   },
   "outputs": [],
   "source": [
    "#Using the train_test_split to create train and test sets.\n",
    "x_train, x_test, y_train, y_test = train_test_split(x, y.astype('float'), random_state = 7, test_size = 0.2)"
   ]
  },
  {
   "cell_type": "code",
   "execution_count": 35,
   "metadata": {
    "collapsed": true
   },
   "outputs": [],
   "source": [
    "#Importing the Decision tree classifier from the sklearn library.\n",
    "from sklearn.tree import DecisionTreeClassifier\n",
    "clf = DecisionTreeClassifier(criterion = 'entropy')"
   ]
  },
  {
   "cell_type": "code",
   "execution_count": 36,
   "metadata": {
    "collapsed": false
   },
   "outputs": [
    {
     "data": {
      "text/plain": [
       "DecisionTreeClassifier(class_weight=None, criterion='entropy', max_depth=None,\n",
       "                       max_features=None, max_leaf_nodes=None,\n",
       "                       min_impurity_decrease=0.0, min_impurity_split=None,\n",
       "                       min_samples_leaf=1, min_samples_split=2,\n",
       "                       min_weight_fraction_leaf=0.0, presort=False,\n",
       "                       random_state=None, splitter='best')"
      ]
     },
     "execution_count": 36,
     "metadata": {},
     "output_type": "execute_result"
    }
   ],
   "source": [
    "#Training the decision tree classifier. \n",
    "clf.fit(x_train, y_train)"
   ]
  },
  {
   "cell_type": "code",
   "execution_count": 38,
   "metadata": {
    "collapsed": false
   },
   "outputs": [
    {
     "name": "stdout",
     "output_type": "stream",
     "text": [
      "[6. 7. 7. 8. 7. 5. 5. 8. 5. 6.]\n"
     ]
    }
   ],
   "source": [
    "y_pred =  clf.predict(x_test)\n",
    "print(y_pred)"
   ]
  },
  {
   "cell_type": "code",
   "execution_count": 41,
   "metadata": {
    "collapsed": false
   },
   "outputs": [
    {
     "name": "stdout",
     "output_type": "stream",
     "text": [
      "Enter Your Shoe size:-6\n",
      "Enter Your Weight:-35\n"
     ]
    },
    {
     "ename": "TypeError",
     "evalue": "'numpy.ndarray' object is not callable",
     "output_type": "error",
     "traceback": [
      "\u001b[0;31m---------------------------------------------------------------------------\u001b[0m",
      "\u001b[0;31mTypeError\u001b[0m                                 Traceback (most recent call last)",
      "\u001b[0;32m<ipython-input-41-40102242d192>\u001b[0m in \u001b[0;36m<module>\u001b[0;34m()\u001b[0m\n\u001b[1;32m      1\u001b[0m \u001b[0mssize\u001b[0m\u001b[1;33m=\u001b[0m\u001b[0mfloat\u001b[0m\u001b[1;33m(\u001b[0m\u001b[0minput\u001b[0m\u001b[1;33m(\u001b[0m\u001b[1;34m\"Enter Your Shoe size:-\"\u001b[0m\u001b[1;33m)\u001b[0m\u001b[1;33m)\u001b[0m\u001b[1;33m\u001b[0m\u001b[0m\n\u001b[1;32m      2\u001b[0m \u001b[0mweight\u001b[0m\u001b[1;33m=\u001b[0m\u001b[0mint\u001b[0m\u001b[1;33m(\u001b[0m\u001b[0minput\u001b[0m\u001b[1;33m(\u001b[0m\u001b[1;34m\"Enter Your Weight:-\"\u001b[0m\u001b[1;33m)\u001b[0m\u001b[1;33m)\u001b[0m\u001b[1;33m\u001b[0m\u001b[0m\n\u001b[0;32m----> 3\u001b[0;31m \u001b[0mpredict\u001b[0m\u001b[1;33m=\u001b[0m\u001b[0my_pred\u001b[0m\u001b[1;33m(\u001b[0m\u001b[1;33m[\u001b[0m\u001b[1;33m[\u001b[0m\u001b[0mssize\u001b[0m\u001b[1;33m,\u001b[0m\u001b[0mweight\u001b[0m\u001b[1;33m]\u001b[0m\u001b[1;33m]\u001b[0m\u001b[1;33m)\u001b[0m\u001b[1;33m\u001b[0m\u001b[0m\n\u001b[0m\u001b[1;32m      4\u001b[0m \u001b[0mprint\u001b[0m\u001b[1;33m(\u001b[0m\u001b[0mpredict\u001b[0m\u001b[1;33m)\u001b[0m\u001b[1;33m\u001b[0m\u001b[0m\n",
      "\u001b[0;31mTypeError\u001b[0m: 'numpy.ndarray' object is not callable"
     ]
    }
   ],
   "source": [
    "ssize=float(input(\"Enter Your Shoe size:-\"))\n",
    "weight=int(input(\"Enter Your Weight:-\"))\n",
    "predict=y_pred([[ssize,weight]])\n",
    "print(predict)"
   ]
  },
  {
   "cell_type": "code",
   "execution_count": null,
   "metadata": {
    "collapsed": true
   },
   "outputs": [],
   "source": []
  }
 ],
 "metadata": {
  "anaconda-cloud": {},
  "kernelspec": {
   "display_name": "Python [default]",
   "language": "python",
   "name": "python3"
  },
  "language_info": {
   "codemirror_mode": {
    "name": "ipython",
    "version": 3
   },
   "file_extension": ".py",
   "mimetype": "text/x-python",
   "name": "python",
   "nbconvert_exporter": "python",
   "pygments_lexer": "ipython3",
   "version": "3.5.2"
  }
 },
 "nbformat": 4,
 "nbformat_minor": 1
}
